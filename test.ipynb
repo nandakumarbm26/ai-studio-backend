{
 "cells": [
  {
   "cell_type": "code",
   "execution_count": 2,
   "id": "3c5b4ad6",
   "metadata": {},
   "outputs": [],
   "source": [
    "from app.lib.openai_wrapper import OpenAI"
   ]
  },
  {
   "cell_type": "code",
   "execution_count": 3,
   "id": "db99b49d",
   "metadata": {},
   "outputs": [],
   "source": [
    "openai_client = OpenAI()"
   ]
  },
  {
   "cell_type": "code",
   "execution_count": 4,
   "id": "614b8518",
   "metadata": {},
   "outputs": [],
   "source": [
    "res = openai_client.chat_completion([{\n",
    "            \"role\":\"system\",\n",
    "            \"content\":\"Act as a news analyst and summarize the news. Create a concise summary of the news. Summary should be 3-4 sentences long and covers most of the things that has been shared as articles.\"\n",
    "        },{\n",
    "            \"role\":\"user\",\n",
    "            \"content\":\"I had to do this on an old version of git (1.5.6.5) and the set-url option did not exist. Simply deleting the unwanted remote and adding a new one with the same name worked without problem and maintained history just fine. – Mike Walton  CommentedSep 11, 2014 at 21:17\"\n",
    "        }])"
   ]
  },
  {
   "cell_type": "code",
   "execution_count": 17,
   "id": "8f3060f8",
   "metadata": {},
   "outputs": [
    {
     "data": {
      "text/plain": [
       "{'content': \"Mike Walton shared his experience with using an older version of Git (1.5.6.5) where the 'set-url' option was not available. He successfully managed to update a remote repository by deleting the unwanted remote and adding a new one with the same name, which preserved the history without any issues. This method proved effective for his needs.\",\n",
       " 'refusal': None,\n",
       " 'role': 'assistant',\n",
       " 'annotations': None,\n",
       " 'audio': None,\n",
       " 'function_call': None,\n",
       " 'tool_calls': None}"
      ]
     },
     "execution_count": 17,
     "metadata": {},
     "output_type": "execute_result"
    }
   ],
   "source": [
    "res.dict()['choices'][0]['message']"
   ]
  },
  {
   "cell_type": "code",
   "execution_count": 16,
   "id": "8e7dd080",
   "metadata": {},
   "outputs": [
    {
     "data": {
      "text/plain": [
       "ChatCompletionMessage(content=\"Mike Walton shared his experience with using an older version of Git (1.5.6.5) where the 'set-url' option was not available. He successfully managed to update a remote repository by deleting the unwanted remote and adding a new one with the same name, which preserved the history without any issues. This method proved effective for his needs.\", refusal=None, role='assistant', annotations=None, audio=None, function_call=None, tool_calls=None)"
      ]
     },
     "execution_count": 16,
     "metadata": {},
     "output_type": "execute_result"
    }
   ],
   "source": [
    "res.choices[0].message"
   ]
  },
  {
   "cell_type": "code",
   "execution_count": 1,
   "id": "f49b8d04",
   "metadata": {},
   "outputs": [],
   "source": [
    "from fastapi import FastAPI, HTTPException\n",
    "from pydantic import BaseModel\n",
    "from typing import List\n",
    "import sqlite3\n",
    "import json\n"
   ]
  },
  {
   "cell_type": "code",
   "execution_count": 13,
   "id": "af7d6fda",
   "metadata": {},
   "outputs": [],
   "source": [
    "conn = sqlite3.connect(\"test.db\")\n",
    "cursor = conn.cursor()\n",
    "\n",
    "cursor.execute(\"\"\"\n",
    "    UPDATE PromptEngineeredAgent\n",
    "SET\n",
    "  createdDate = CURRENT_TIMESTAMP,\n",
    "  updatedDate = CURRENT_TIMESTAMP;\n",
    "\"\"\")\n",
    "\n",
    "conn.commit()\n",
    "conn.close()"
   ]
  },
  {
   "cell_type": "code",
   "execution_count": null,
   "id": "0899f43e",
   "metadata": {},
   "outputs": [],
   "source": []
  }
 ],
 "metadata": {
  "kernelspec": {
   "display_name": ".venv",
   "language": "python",
   "name": "python3"
  },
  "language_info": {
   "codemirror_mode": {
    "name": "ipython",
    "version": 3
   },
   "file_extension": ".py",
   "mimetype": "text/x-python",
   "name": "python",
   "nbconvert_exporter": "python",
   "pygments_lexer": "ipython3",
   "version": "3.13.2"
  }
 },
 "nbformat": 4,
 "nbformat_minor": 5
}
