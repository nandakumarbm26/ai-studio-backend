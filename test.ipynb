{
 "cells": [
  {
   "cell_type": "code",
   "execution_count": 2,
   "id": "3c5b4ad6",
   "metadata": {},
   "outputs": [],
   "source": [
    "from app.lib.openai_wrapper import OpenAI"
   ]
  },
  {
   "cell_type": "code",
   "execution_count": 3,
   "id": "db99b49d",
   "metadata": {},
   "outputs": [],
   "source": [
    "openai_client = OpenAI()"
   ]
  },
  {
   "cell_type": "code",
   "execution_count": 4,
   "id": "614b8518",
   "metadata": {},
   "outputs": [],
   "source": [
    "res = openai_client.chat_completion([{\n",
    "            \"role\":\"system\",\n",
    "            \"content\":\"Act as a news analyst and summarize the news. Create a concise summary of the news. Summary should be 3-4 sentences long and covers most of the things that has been shared as articles.\"\n",
    "        },{\n",
    "            \"role\":\"user\",\n",
    "            \"content\":\"I had to do this on an old version of git (1.5.6.5) and the set-url option did not exist. Simply deleting the unwanted remote and adding a new one with the same name worked without problem and maintained history just fine. – Mike Walton  CommentedSep 11, 2014 at 21:17\"\n",
    "        }])"
   ]
  },
  {
   "cell_type": "code",
   "execution_count": 17,
   "id": "8f3060f8",
   "metadata": {},
   "outputs": [
    {
     "data": {
      "text/plain": [
       "{'content': \"Mike Walton shared his experience with using an older version of Git (1.5.6.5) where the 'set-url' option was not available. He successfully managed to update a remote repository by deleting the unwanted remote and adding a new one with the same name, which preserved the history without any issues. This method proved effective for his needs.\",\n",
       " 'refusal': None,\n",
       " 'role': 'assistant',\n",
       " 'annotations': None,\n",
       " 'audio': None,\n",
       " 'function_call': None,\n",
       " 'tool_calls': None}"
      ]
     },
     "execution_count": 17,
     "metadata": {},
     "output_type": "execute_result"
    }
   ],
   "source": [
    "res.dict()['choices'][0]['message']"
   ]
  },
  {
   "cell_type": "code",
   "execution_count": 16,
   "id": "8e7dd080",
   "metadata": {},
   "outputs": [
    {
     "data": {
      "text/plain": [
       "ChatCompletionMessage(content=\"Mike Walton shared his experience with using an older version of Git (1.5.6.5) where the 'set-url' option was not available. He successfully managed to update a remote repository by deleting the unwanted remote and adding a new one with the same name, which preserved the history without any issues. This method proved effective for his needs.\", refusal=None, role='assistant', annotations=None, audio=None, function_call=None, tool_calls=None)"
      ]
     },
     "execution_count": 16,
     "metadata": {},
     "output_type": "execute_result"
    }
   ],
   "source": [
    "res.choices[0].message"
   ]
  },
  {
   "cell_type": "code",
   "execution_count": 4,
   "id": "f49b8d04",
   "metadata": {},
   "outputs": [],
   "source": [
    "from fastapi import FastAPI, HTTPException\n",
    "from pydantic import BaseModel\n",
    "from typing import List\n",
    "import sqlite3\n",
    "import json\n"
   ]
  },
  {
   "cell_type": "code",
   "execution_count": 11,
   "id": "af7d6fda",
   "metadata": {},
   "outputs": [],
   "source": [
    "conn = sqlite3.connect(\"test.db\")\n",
    "cursor = conn.cursor()\n",
    "\n",
    "cursor.execute(\"\"\"\n",
    "    DROP TABLE users;\n",
    "\n",
    "\"\"\")\n",
    "\n",
    "conn.commit()\n",
    "conn.close()"
   ]
  },
  {
   "cell_type": "code",
   "execution_count": 9,
   "id": "7b6bca94",
   "metadata": {},
   "outputs": [],
   "source": [
    "from app.db import session\n",
    "from app.models import auth\n",
    "db = session.get_db()"
   ]
  },
  {
   "cell_type": "code",
   "execution_count": null,
   "id": "12b94f5d",
   "metadata": {},
   "outputs": [
    {
     "data": {
      "text/plain": [
       "<generator object get_db at 0x00000236B4D40EE0>"
      ]
     },
     "execution_count": 10,
     "metadata": {},
     "output_type": "execute_result"
    }
   ],
   "source": []
  },
  {
   "cell_type": "code",
   "execution_count": 8,
   "id": "0899f43e",
   "metadata": {},
   "outputs": [
    {
     "ename": "AttributeError",
     "evalue": "'generator' object has no attribute 'query'",
     "output_type": "error",
     "traceback": [
      "\u001b[31m---------------------------------------------------------------------------\u001b[39m",
      "\u001b[31mAttributeError\u001b[39m                            Traceback (most recent call last)",
      "\u001b[36mCell\u001b[39m\u001b[36m \u001b[39m\u001b[32mIn[8]\u001b[39m\u001b[32m, line 1\u001b[39m\n\u001b[32m----> \u001b[39m\u001b[32m1\u001b[39m \u001b[38;5;28mprint\u001b[39m(\u001b[43mdb\u001b[49m\u001b[43m.\u001b[49m\u001b[43mquery\u001b[49m(auth.User).all())\n",
      "\u001b[31mAttributeError\u001b[39m: 'generator' object has no attribute 'query'"
     ]
    }
   ],
   "source": [
    "print(db.query(auth.User).all())"
   ]
  },
  {
   "cell_type": "code",
   "execution_count": null,
   "id": "faf6af02",
   "metadata": {},
   "outputs": [],
   "source": []
  }
 ],
 "metadata": {
  "kernelspec": {
   "display_name": ".venv",
   "language": "python",
   "name": "python3"
  },
  "language_info": {
   "codemirror_mode": {
    "name": "ipython",
    "version": 3
   },
   "file_extension": ".py",
   "mimetype": "text/x-python",
   "name": "python",
   "nbconvert_exporter": "python",
   "pygments_lexer": "ipython3",
   "version": "3.13.2"
  }
 },
 "nbformat": 4,
 "nbformat_minor": 5
}
